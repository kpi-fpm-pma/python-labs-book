{
 "cells": [
  {
   "cell_type": "markdown",
   "metadata": {},
   "source": [
    "# Теоретичні відомості\n",
    "\n",
    "Лінійний алгоритм — алгоритм, в якому обчислення виконуються строго послідовно. Такий алгоритм реалізується простими інструкціями. Прості інструкції (simple statements) є базовим елементом більшості мов програмування і Python не виняток. \n",
    "\n",
    "Прості інструкції розташовуються в одному рядку. Кілька простих інструкцій теж можна розташовувати в одному рядку, для цього вони повинні бути розділені крапкою з комою. Однак, зловживати не варто, так як це погано позначається на читання коду. \n",
    "\n",
    "Типова блок-схема лінійного алгоритму показана на рис. 1.1.\n",
    "\n",
    "[]\n",
    "\n",
    "## Цілі числа (int) \n",
    "\n",
    "Числа в Python 3 нічим не відрізняються від звичайних чисел. Вони підтримують набір звичайних математичних операцій: \n",
    "\n",
    "| Запис | Операція |\n",
    "|---|---|\n",
    "| `x + y` | додавання |\n",
    "| `x - y` | віднімання |\n",
    "| `x * y` | множення |\n",
    "| `x / y` | ділення |\n",
    "| `x // y` | отримання цілої частини від ділення |\n",
    "| `x % y` | залишок від ділення | \n",
    "| `-x` | зміна знака числа |\n",
    "| `abs(x)` | модуль числа |\n",
    "| `divmod(x, y)` | Частка і залишок від ділення |\n",
    "| `x ** y` | зведення в ступінь |\n",
    "| `pow(x, y[, z])` | x^y по модулю (якщо модуль заданий) |\n",
    "\n",
    "Також потрібно відзначити, що цілі числа в Python 3, на відміну від багатьох інших мов, підтримують довгу арифметику (проте, це вимагає більше пам'яті). \n",
    "\n",
    "Приклади операцій: "
   ]
  },
  {
   "cell_type": "code",
   "execution_count": 2,
   "metadata": {},
   "outputs": [
    {
     "data": {
      "text/plain": [
       "289"
      ]
     },
     "execution_count": 2,
     "metadata": {},
     "output_type": "execute_result"
    }
   ],
   "source": [
    "255+34 "
   ]
  },
  {
   "cell_type": "code",
   "execution_count": 3,
   "metadata": {},
   "outputs": [
    {
     "data": {
      "text/plain": [
       "10"
      ]
     },
     "execution_count": 3,
     "metadata": {},
     "output_type": "execute_result"
    }
   ],
   "source": [
    "5*2 "
   ]
  },
  {
   "cell_type": "code",
   "execution_count": 4,
   "metadata": {},
   "outputs": [
    {
     "data": {
      "text/plain": [
       "6.666666666666667"
      ]
     },
     "execution_count": 4,
     "metadata": {},
     "output_type": "execute_result"
    }
   ],
   "source": [
    "20/3 "
   ]
  },
  {
   "cell_type": "code",
   "execution_count": 5,
   "metadata": {},
   "outputs": [
    {
     "data": {
      "text/plain": [
       "6"
      ]
     },
     "execution_count": 5,
     "metadata": {},
     "output_type": "execute_result"
    }
   ],
   "source": [
    "20//3 "
   ]
  },
  {
   "cell_type": "code",
   "execution_count": 6,
   "metadata": {},
   "outputs": [
    {
     "data": {
      "text/plain": [
       "2"
      ]
     },
     "execution_count": 6,
     "metadata": {},
     "output_type": "execute_result"
    }
   ],
   "source": [
    "20%3 "
   ]
  },
  {
   "cell_type": "code",
   "execution_count": 7,
   "metadata": {},
   "outputs": [
    {
     "data": {
      "text/plain": [
       "81"
      ]
     },
     "execution_count": 7,
     "metadata": {},
     "output_type": "execute_result"
    }
   ],
   "source": [
    "3**4 "
   ]
  },
  {
   "cell_type": "code",
   "execution_count": 8,
   "metadata": {},
   "outputs": [
    {
     "data": {
      "text/plain": [
       "81"
      ]
     },
     "execution_count": 8,
     "metadata": {},
     "output_type": "execute_result"
    }
   ],
   "source": [
    "pow(3,4) "
   ]
  },
  {
   "cell_type": "code",
   "execution_count": 9,
   "metadata": {},
   "outputs": [
    {
     "data": {
      "text/plain": [
       "0"
      ]
     },
     "execution_count": 9,
     "metadata": {},
     "output_type": "execute_result"
    }
   ],
   "source": [
    "pow(3,4,27) "
   ]
  },
  {
   "cell_type": "code",
   "execution_count": 10,
   "metadata": {},
   "outputs": [
    {
     "data": {
      "text/plain": [
       "369988485035126972924700782451696644186473100389722973815184405301748249"
      ]
     },
     "execution_count": 10,
     "metadata": {},
     "output_type": "execute_result"
    }
   ],
   "source": [
    "3**150 "
   ]
  },
  {
   "cell_type": "markdown",
   "metadata": {},
   "source": [
    "## Бітові операції \n",
    "\n",
    "Над цілими числами також можна виконувати бітові операції. \n",
    "\n",
    "| Запис | Операція |\n",
    "|--|--|\n",
    "| `x \\| y` | побітове або |\n",
    "| `x ^ y`  | побітове виключення або |\n",
    "| `x & y`  | побітове і | \n",
    "| `x << n` | бітовий зсув вліво |\n",
    "| `x >> y` | бітовий зсув вправо |\n",
    "| `~x`     | інверсія бітів |\n",
    "\n",
    "## Системи числення \n",
    "\n",
    "Для переведення числа з однієї системи числення в іншу Python надає кілька функцій: \n",
    "\n",
    "> `int ([object], [основа системи числення])` - перетворення до цілого числа в десятковій системі числення. За замовчуванням система числення десяткова, але можна задати будь-яку основу від 2 до 36 включно. \n",
    ">\n",
    ">`bin (x)` - перетворення цілого числа в двійковий рядок. \n",
    ">\n",
    ">`hex (х)` - перетворення цілого числа в шістнадцятковий рядок. \n",
    ">\n",
    ">`oct (х)` - перетворення цілого числа в вісімковий рядок. \n",
    "\n",
    "## Дійсні числа (float) \n",
    "\n",
    "Дійсні числа підтримують ті ж операції, що і цілі.Більш докладно про можливі операції див. [Додаток 4](../outro/appendixD). \n",
    "\n",
    "Прості приклади роботи з числами: "
   ]
  },
  {
   "cell_type": "code",
   "execution_count": 11,
   "metadata": {},
   "outputs": [
    {
     "data": {
      "text/plain": [
       "162.9"
      ]
     },
     "execution_count": 11,
     "metadata": {},
     "output_type": "execute_result"
    }
   ],
   "source": [
    "c=150 \n",
    "d=12.9 \n",
    "c+d "
   ]
  },
  {
   "cell_type": "code",
   "execution_count": 12,
   "metadata": {},
   "outputs": [
    {
     "name": "stdout",
     "output_type": "stream",
     "text": [
      "137.1\n"
     ]
    }
   ],
   "source": [
    "p=abs(d-c) # Модуль числа \n",
    "print(p) "
   ]
  },
  {
   "cell_type": "code",
   "execution_count": 13,
   "metadata": {},
   "outputs": [
    {
     "data": {
      "text/plain": [
       "137"
      ]
     },
     "execution_count": 13,
     "metadata": {},
     "output_type": "execute_result"
    }
   ],
   "source": [
    "round(p) # Заокруглення "
   ]
  },
  {
   "cell_type": "markdown",
   "metadata": {},
   "source": [
    "Крім стандартних виразів для роботи з числами (а в Python їх не так вже й багато), в складі Python є кілька корисних модулів. \n",
    "\n",
    "Модуль `math` надає більш складні математичні функції. "
   ]
  },
  {
   "cell_type": "code",
   "execution_count": 14,
   "metadata": {},
   "outputs": [
    {
     "data": {
      "text/plain": [
       "3.141592653589793"
      ]
     },
     "execution_count": 14,
     "metadata": {},
     "output_type": "execute_result"
    }
   ],
   "source": [
    "import math \n",
    "\n",
    "math.pi"
   ]
  },
  {
   "cell_type": "code",
   "execution_count": 15,
   "metadata": {},
   "outputs": [
    {
     "data": {
      "text/plain": [
       "9.219544457292887"
      ]
     },
     "execution_count": 15,
     "metadata": {},
     "output_type": "execute_result"
    }
   ],
   "source": [
    "math.sqrt(85)"
   ]
  },
  {
   "cell_type": "markdown",
   "metadata": {},
   "source": [
    "Модуль random реалізує генератор випадкових чисел і функції випадкового вибору. "
   ]
  },
  {
   "cell_type": "code",
   "execution_count": 16,
   "metadata": {},
   "outputs": [
    {
     "data": {
      "text/plain": [
       "0.9734358296928365"
      ]
     },
     "execution_count": 16,
     "metadata": {},
     "output_type": "execute_result"
    }
   ],
   "source": [
    "import random \n",
    "\n",
    "random.random() "
   ]
  },
  {
   "cell_type": "markdown",
   "metadata": {},
   "source": [
    "Більш докладно операції з різними типами змінних описано в [Додатку 4](../outro/appendixD). \n",
    "\n",
    "## Функції `print` і `input` \n",
    "\n",
    "Для обміну даними із зовнішнім для програми середовищем в Python застосовуються функції `print` і `input`. \n",
    "\n",
    "Функція `print` виводить на монітор те, що вказано в дужках при виклику цієї функції. У дужках можуть бути будь-які типи даних. Крім того, кількість даних може бути різним: "
   ]
  },
  {
   "cell_type": "code",
   "execution_count": 17,
   "metadata": {},
   "outputs": [
    {
     "name": "stdout",
     "output_type": "stream",
     "text": [
      "1032\n"
     ]
    }
   ],
   "source": [
    "print(1032)"
   ]
  },
  {
   "cell_type": "code",
   "execution_count": 18,
   "metadata": {},
   "outputs": [
    {
     "name": "stdout",
     "output_type": "stream",
     "text": [
      "2.34\n"
     ]
    }
   ],
   "source": [
    "print(2.34) "
   ]
  },
  {
   "cell_type": "code",
   "execution_count": 19,
   "metadata": {},
   "outputs": [
    {
     "name": "stdout",
     "output_type": "stream",
     "text": [
      "Hello\n"
     ]
    }
   ],
   "source": [
    "print(\"Hello\") "
   ]
  },
  {
   "cell_type": "code",
   "execution_count": 20,
   "metadata": {},
   "outputs": [
    {
     "name": "stdout",
     "output_type": "stream",
     "text": [
      "a: 1\n"
     ]
    }
   ],
   "source": [
    "print(\"a:\", 1) "
   ]
  },
  {
   "cell_type": "code",
   "execution_count": 21,
   "metadata": {},
   "outputs": [
    {
     "name": "stdout",
     "output_type": "stream",
     "text": [
      "1 2 3\n"
     ]
    }
   ],
   "source": [
    "one = 1 \n",
    "two = 2 \n",
    "three = 3 \n",
    "print(one, two, three)"
   ]
  },
  {
   "cell_type": "markdown",
   "metadata": {},
   "source": [
    "Аргументи функції (те, що в дужках), поділяються між собою комами. У виводі замість ком значення розділені пробілом. Якщо в дужках стоїть вираз, то спочатку він виконується, після чого `print()` вже виводить результат цього виразу: "
   ]
  },
  {
   "cell_type": "code",
   "execution_count": 22,
   "metadata": {},
   "outputs": [
    {
     "name": "stdout",
     "output_type": "stream",
     "text": [
      "hello world\n"
     ]
    }
   ],
   "source": [
    "print(\"hello\" + \" \" + \"world\") "
   ]
  },
  {
   "cell_type": "code",
   "execution_count": 23,
   "metadata": {},
   "outputs": [
    {
     "name": "stdout",
     "output_type": "stream",
     "text": [
      "8.75\n"
     ]
    }
   ],
   "source": [
    "print(10 - 2.5/2)"
   ]
  },
  {
   "cell_type": "markdown",
   "metadata": {},
   "source": [
    "У `print` передбачені додаткові параметри. Наприклад, через параметр `sep` можна вказати відмінний від пробілу роздільник рядків: "
   ]
  },
  {
   "cell_type": "code",
   "execution_count": 24,
   "metadata": {},
   "outputs": [
    {
     "name": "stdout",
     "output_type": "stream",
     "text": [
      "Mon-Tue-Wed-Thu-Fri-Sat-Sun\n"
     ]
    }
   ],
   "source": [
    "print(\"Mon\", \"Tue\", \"Wed\", \"Thu\", \"Fri\", \"Sat\", \"Sun\", sep=\"-\") "
   ]
  },
  {
   "cell_type": "code",
   "execution_count": 25,
   "metadata": {},
   "outputs": [
    {
     "name": "stdout",
     "output_type": "stream",
     "text": [
      "1//2//3\n"
     ]
    }
   ],
   "source": [
    "print(1, 2, 3, sep=\"//\")"
   ]
  },
  {
   "cell_type": "markdown",
   "metadata": {},
   "source": [
    "Форматування виведення може виконуватися в так званому старому стилі або за допомогою строкового методу `format`. Старий стиль також називають Сі-стилем, так як він схожий з тим, як відбувається вивід на екран в мові C. Приклад: "
   ]
  },
  {
   "cell_type": "code",
   "execution_count": 26,
   "metadata": {},
   "outputs": [
    {
     "name": "stdout",
     "output_type": "stream",
     "text": [
      "It's Ben, 16. Level: 9.200000\n"
     ]
    }
   ],
   "source": [
    "pupil = \"Ben\" \n",
    "old = 16 \n",
    "grade = 9.2 \n",
    "print(\"It's %s, %d. Level: %f\" % (pupil, old, grade))"
   ]
  },
  {
   "cell_type": "markdown",
   "metadata": {},
   "source": [
    "Тут замість трьох комбінацій символів `%s`, `%d`, `%f` підставляються значення змінних `pupil`, `old`, `grade`. Букви `s`, `d`, `f` позначають типи даних - рядок, ціле число, дійсне число. Якби було потрібно підставити три рядки, то у всіх випадках використовувалося б сполучення `%s`. \n",
    "\n",
    "Хоча в якості значення змінної `grade` було зазначено число `9.2`, на екран воно вивелося з додатковими нулями. Однак, можна вказати, скільки потрібно знаків після коми, записавши перед буквою `f` точку з бажаним числом знаків в дробовій частині: "
   ]
  },
  {
   "cell_type": "code",
   "execution_count": 27,
   "metadata": {},
   "outputs": [
    {
     "name": "stdout",
     "output_type": "stream",
     "text": [
      "It's Ben, 16. Level: 9.2\n"
     ]
    }
   ],
   "source": [
    "print(\"It's %s, %d. Level: %.1f\" % (pupil, old, grade)) "
   ]
  },
  {
   "cell_type": "markdown",
   "metadata": {},
   "source": [
    "Тепер розглянемо метод `format`: "
   ]
  },
  {
   "cell_type": "code",
   "execution_count": 29,
   "metadata": {},
   "outputs": [
    {
     "name": "stdout",
     "output_type": "stream",
     "text": [
      "This is a ball. It's red.\n"
     ]
    }
   ],
   "source": [
    "print(\"This is a {0}. It's {1}.\".format(\"ball\", \"red\")) "
   ]
  },
  {
   "cell_type": "code",
   "execution_count": 30,
   "metadata": {},
   "outputs": [
    {
     "name": "stdout",
     "output_type": "stream",
     "text": [
      "This is a cat. It's white.\n"
     ]
    }
   ],
   "source": [
    "print(\"This is a {0}. It's {1}.\".format(\"cat\", \"white\")) "
   ]
  },
  {
   "cell_type": "code",
   "execution_count": 28,
   "metadata": {},
   "outputs": [
    {
     "name": "stdout",
     "output_type": "stream",
     "text": [
      "This is a 1. It's a number.\n"
     ]
    }
   ],
   "source": [
    "print(\"This is a {0}. It's {1} {2}.\".format(1, \"a\", \"number\")) "
   ]
  },
  {
   "cell_type": "markdown",
   "metadata": {},
   "source": [
    "У рядку в фігурних дужках вказані номери даних, які будуть сюди під-ставлені. Далі до рядка застосовується метод `format`. У його дужках вказуються самі дані (можна використовувати змінні). На нульове місце підставиться перший аргумент методу `format`, на місце з номером 1 - другий і т. д. \n",
    "\n",
    "За введення у програму даних з клавіатури в Python відповідає функція `input`. Коли викликається ця функція, програма зупиняє своє виконання і чекає, коли користувач введе текст. Після цього, коли він натисне Enter, функція `input` забере введений текст і передасть його програмі, яка вже буде обробляти його відповідно до своїх алгоритмів. \n",
    "\n",
    "Якщо у інтерактивному режимі ввести команду `input`, то комп'ютер буде чекати, коли ви введете щось і натиснете Enter або просто натиснете Enter. Якщо ви щось ввели, це відразу ж відобразитися на екрані: "
   ]
  },
  {
   "cell_type": "code",
   "execution_count": 31,
   "metadata": {},
   "outputs": [
    {
     "name": "stdin",
     "output_type": "stream",
     "text": [
      " Yes!\n"
     ]
    },
    {
     "data": {
      "text/plain": [
       "'Yes!'"
      ]
     },
     "execution_count": 31,
     "metadata": {},
     "output_type": "execute_result"
    }
   ],
   "source": [
    "input()"
   ]
  },
  {
   "cell_type": "markdown",
   "metadata": {},
   "source": [
    "Функція `input` передає введені дані у програму. Їх можна присвоїти змінній. В цьому випадку інтерпретатор не виводить рядок відразу ж: "
   ]
  },
  {
   "cell_type": "code",
   "execution_count": 32,
   "metadata": {},
   "outputs": [
    {
     "name": "stdin",
     "output_type": "stream",
     "text": [
      " No, it is not.\n"
     ]
    }
   ],
   "source": [
    "answer = input() "
   ]
  },
  {
   "cell_type": "markdown",
   "metadata": {},
   "source": [
    "В даному випадку рядок зберігається в змінній answer, і при бажанні можно вивести її значення на екран: "
   ]
  },
  {
   "cell_type": "code",
   "execution_count": 33,
   "metadata": {},
   "outputs": [
    {
     "data": {
      "text/plain": [
       "'No, it is not.'"
      ]
     },
     "execution_count": 33,
     "metadata": {},
     "output_type": "execute_result"
    }
   ],
   "source": [
    "answer"
   ]
  },
  {
   "cell_type": "markdown",
   "metadata": {},
   "source": [
    "При використанні функції `print` лапки опускаються. \n",
    "\n",
    "За замовчуванням функція `іnput` вводить інформацію як рядок, тобто як символи. \n",
    "\n",
    "*Приклад*: "
   ]
  },
  {
   "cell_type": "code",
   "execution_count": 34,
   "metadata": {},
   "outputs": [
    {
     "name": "stdin",
     "output_type": "stream",
     "text": [
      " 5\n",
      " 12\n"
     ]
    },
    {
     "name": "stdout",
     "output_type": "stream",
     "text": [
      "512\n"
     ]
    }
   ],
   "source": [
    "x=input() \n",
    "y=input() \n",
    "print (x+y)  # до першого рядку приєднується другий"
   ]
  },
  {
   "cell_type": "markdown",
   "metadata": {},
   "source": [
    "Щоб працювати з числовою інформацією треба для функції `input` вказати тип числа, що вводиться (наприклад, int або float). \n",
    "\n",
    "*Приклад*: "
   ]
  },
  {
   "cell_type": "code",
   "execution_count": 35,
   "metadata": {},
   "outputs": [
    {
     "name": "stdin",
     "output_type": "stream",
     "text": [
      " 12\n",
      " 5\n"
     ]
    },
    {
     "name": "stdout",
     "output_type": "stream",
     "text": [
      "17\n"
     ]
    }
   ],
   "source": [
    "x=int(input()) \n",
    "y=int(input()) \n",
    "print(x+y)     # перше число складається з другим "
   ]
  },
  {
   "cell_type": "markdown",
   "metadata": {},
   "source": [
    "Перед викликом функції треба передбачити спеціальне запрошення, тому що користувач може не зрозуміти, що від нього чекає програма. \n",
    "\n",
    "*Приклад*: "
   ]
  },
  {
   "cell_type": "code",
   "execution_count": 36,
   "metadata": {},
   "outputs": [
    {
     "name": "stdin",
     "output_type": "stream",
     "text": [
      " Natalia\n"
     ]
    },
    {
     "name": "stdout",
     "output_type": "stream",
     "text": [
      "Natalia\n"
     ]
    }
   ],
   "source": [
    "UserName = input() \n",
    "print(UserName)"
   ]
  },
  {
   "cell_type": "markdown",
   "metadata": {},
   "source": [
    "## Поняття розгалуження \n",
    "\n",
    "Розгалужений обчислювальний процес передбачає кілька можливих напрямків обчислення, але тільки одиніз них повинен виконуватися при реалізації алгоритму. Тому розгалуження включає перевірку одного або декількох умов, в залежності від якої і буде вибиратися напрямок (гілка) обчислення. \n",
    "\n",
    "Таким чином, алгоритм розгалуження складається з перевірки умови (умов) і всіх можливих гілок обчислення, при цьому бажано, щоб дії, загальні для всіх гілок, описувалися один раз (до або після розгалуження). \n",
    "\n",
    "Найбільш відома інструкція, що дозволяє реалізувати логічне розгалуження, складається з трьох частин: `if`, `elif`, `else`. \n",
    "\n",
    "### Керуючі конструкції - оператори `IF ... ELIF ... ELSE`\n",
    "\n",
    "Структура керуючої конструкції (або \"прийняття рішення\") вимагає, щоб програміст поставив одне або більше умов, які будуть виконані і перевірені програмою і однієї або декількох дій, які будуть виконані, якщо умова буде визначено як істина (`true`) і, опціонально, інші вирази, які будуть виконані, якщо умова буде визначено як хибність (`false`). \n",
    "\n",
    "Нижче наведено форму типової структури форми керуючої конструкції, яка схожа в більшості мов програмування (рис.1.2): \n",
    "\n",
    "[]()\n",
    "\n",
    "Рисунок 1.2.  − Приклад розгалуженого алгоритму програми. \n",
    "\n",
    "Мова програмування Python передбачає будь-яке не рівне нулю або не порожнє значення як істину (`true`), і навпаки - якщо значення буде порожнім або дорівнювати нулю - то воно буде вважатися хибним (`false`). \n",
    "\n",
    "### Оператор `IF`\n",
    "\n",
    "Оператор `if` в Python подібний цьому оператору в інших мовах. Утвердження з використанням оператора `if` містить в собі логічну умову, в який проводиться порівняння даних і по результату вибирається подальша дія. \n",
    "\n",
    "#### Синтаксис \n",
    "\n",
    "Синтаксис оператора `if` в Python такий: \n",
    "\n",
    "```\n",
    "if  умова: \n",
    "\n",
    "   дія(s)\n",
    "```\n",
    "\n",
    "Якщо логічна умова є істиною (`true`), тоді блок дій в виразі буде виконаний. Якщо умова є хибною (`false`) - тоді буде виконаний наступний блок коду після цього виразу. \n",
    "\n",
    "Приклад: "
   ]
  },
  {
   "cell_type": "code",
   "execution_count": 37,
   "metadata": {},
   "outputs": [
    {
     "name": "stdout",
     "output_type": "stream",
     "text": [
      "1 - Got a true expression value\n",
      "100\n",
      "Good bye!\n"
     ]
    }
   ],
   "source": [
    "var1 = 100 \n",
    "\n",
    "if var1: \n",
    "   print (\"1 - Got a true expression value\") \n",
    "print (var1)\n",
    "\n",
    "var2 = 0 \n",
    "\n",
    "if var2: \n",
    "    print (\"2 - Got a true expression value\") \n",
    "    print (var2)\n",
    "\n",
    "print (\"Good bye!\") "
   ]
  },
  {
   "cell_type": "markdown",
   "metadata": {},
   "source": [
    "### Операторы `IF .. ELIF .. ELSE`\n",
    "\n",
    "Оператор `else` може використовуватися разом з оператором `if`. Оператор `else` містить блок  коду, який буде виконаний, якщо результат виразу дорівнює нулю або вважається хибним. Це опціональний оператор, і він може бути тільки один у всьому виразі після `if`. \n",
    "\n",
    "#### Синтаксис \n",
    "\n",
    "```\n",
    "if  умова: \n",
    "\n",
    "    дія (ї) \n",
    "\n",
    "else: \n",
    "\n",
    "    дія (ї) \n",
    "```\n",
    "\n",
    "Приклад: "
   ]
  },
  {
   "cell_type": "code",
   "execution_count": 38,
   "metadata": {},
   "outputs": [
    {
     "name": "stdout",
     "output_type": "stream",
     "text": [
      "1 - Got a true expression value\n",
      "100\n",
      "2 - Got a false expression value\n",
      "0\n",
      "Good bye!\n"
     ]
    }
   ],
   "source": [
    "var1 = 100 \n",
    "\n",
    "if var1: \n",
    "   print (\"1 - Got a true expression value\") \n",
    "   print (var1) \n",
    "else: \n",
    "       print (\"1 - Got a false expression value\") \n",
    "       print (var1) \n",
    "\n",
    "var2 = 0 \n",
    "\n",
    "if var2: \n",
    "    print (\"2 - Got a true expression value\") \n",
    "    print (var2) \n",
    "else: \n",
    "        print (\"2 - Got a false expression value\") \n",
    "        print (var2) \n",
    "\n",
    "print (\"Good bye!\") "
   ]
  },
  {
   "cell_type": "markdown",
   "metadata": {},
   "source": [
    "### Оператор `elif` \n",
    "\n",
    "Оператор `elif` дозволяє виконувати множинну перевірку виразу і виконувати блок коду, як тільки результат буде вважатися істиною. \n",
    "\n",
    "Як і оператор `else`, `elif` опціональний, однак, на відміну від `else`, він може використовуватися багаторазово. \n",
    "\n",
    "#### Синтаксис \n",
    "\n",
    "```\n",
    "if  умова: \n",
    "\n",
    "    дія (ї) \n",
    "\n",
    "elif   умова2: \n",
    "\n",
    "    дія(ї) \n",
    "\n",
    "elif  умова3: \n",
    "\n",
    "    дія(ї) \n",
    "\n",
    "else: \n",
    "\n",
    "    дія(ї) \n",
    "```\n",
    "\n",
    "В Python немає таких операторів як `switch` або `case`, але можна використовувати оператори `if..elif ...` замість них. \n",
    "\n",
    "Приклад: "
   ]
  },
  {
   "cell_type": "code",
   "execution_count": 39,
   "metadata": {},
   "outputs": [
    {
     "name": "stdout",
     "output_type": "stream",
     "text": [
      "3 - Got a true expression value\n",
      "100\n",
      "Good bye!\n"
     ]
    }
   ],
   "source": [
    "var = 100 \n",
    "\n",
    "if  var == 200: \n",
    "   print (\"1 - Got a true expression value\") \n",
    "   print (var) \n",
    "elif  var == 150: \n",
    "   print (\"2 - Got a true expression value\") \n",
    "   print (var) \n",
    "elif  var == 100: \n",
    "   print (\"3 - Got a true expression value\") \n",
    "   print (var) \n",
    "else: \n",
    "   print (\"4 - Got a false expression value\") \n",
    "   print (var) \n",
    "\n",
    "print (\"Good bye!\") "
   ]
  },
  {
   "cell_type": "markdown",
   "metadata": {},
   "source": [
    "### Вкладені конструкції IF \n",
    "\n",
    "Бувають випадки, коли ви хочете провести ще одну перевірку після того, як результат виразу прийнятий як істина. В такому випадку - можна використовувати вкладені керуючі конструкції `if` (або інакше каскадні). \n",
    "\n",
    "У вкладеної конструкції, ви можете додавати `if .. elif .. else` всередині іншої такої ж конструкції. \n",
    "\n",
    "#### Синтаксис \n",
    "\n",
    "```\n",
    "if умова1: \n",
    "\n",
    "   дія (ї) \n",
    "\n",
    "   if  умова2: \n",
    "\n",
    "    дія (ї) \n",
    "\n",
    "   elif  умова3: \n",
    "\n",
    "      дія (ї) \n",
    "\n",
    "   else \n",
    "\n",
    "     дія (ї) \n",
    "\n",
    "elif  умова4: \n",
    "\n",
    "  дія (ї) \n",
    "\n",
    "else: \n",
    "\n",
    "  дія(ї) \n",
    "```\n",
    "\n",
    "Приклад: "
   ]
  },
  {
   "cell_type": "code",
   "execution_count": 40,
   "metadata": {},
   "outputs": [
    {
     "name": "stdout",
     "output_type": "stream",
     "text": [
      "Expression value is less than 200\n",
      "Which is 100\n",
      "Good bye!\n"
     ]
    }
   ],
   "source": [
    "var = 100 \n",
    "\n",
    "if  var < 200: \n",
    "   print (\"Expression value is less than 200\") \n",
    "   if  var == 150: \n",
    "     print (\"Which is 150\") \n",
    "   elif  var == 100: \n",
    "      print (\"Which is 100\") \n",
    "   elif  var == 50: \n",
    "      print (\"Which is 50\") \n",
    "elif  var < 50: \n",
    "   print (\"Expression value is less than 50\") \n",
    "else: \n",
    "  print (\"Could not find true expression\") \n",
    "\n",
    "print (\"Good bye!\") "
   ]
  },
  {
   "cell_type": "markdown",
   "metadata": {},
   "source": [
    "Як правило, в якості умови, що перевіряється використовується результат обчислення одного з наступних операторів порівняння: \n",
    "\n",
    "| Оператор | Значення |\n",
    "|--|--|\n",
    "| `<` | Менше - умова вірна, якщо перший операнд менше другого. |\n",
    "| `>` | Більше - умова вірна, якщо перший операнд більше другого. |\n",
    "| `<=`| Менше або дорівнює. |\n",
    "| `>=`| Більше або дорівнює. |\n",
    "| `==`| Рівність. Умова вірна, якщо два операнда рівні. |\n",
    "| `!=`| Нерівність. Умова вірна, якщо два операнда нерівні. |\n",
    "\n",
    "Оператори порівняння в Python можна об'єднувати в ланцюжки (на відміну від більшості інших мов програмування, де для цього потрібно використовувати логічні зв'язки), наприклад, `a==b==c` або `1<=x<=10`. \n",
    "\n",
    "Оператори порівняння повертають значення спеціального логічного типу `bool`. Значення логічного типу можуть приймати одне з двох значень: True (істина) або False (хибність). Якщо перетворити логічне True до типу `int`, то вийде 1, а перетворення False дасть 0. При зворотному перетворенні число 0 перетворюється в False, а будь-яке ненульове число в True. При перетворенні `str` в `bool` порожній рядок перетворюється в False, а будь-який непорожній рядок в True. "
   ]
  },
  {
   "cell_type": "code",
   "execution_count": null,
   "metadata": {},
   "outputs": [],
   "source": []
  }
 ],
 "metadata": {
  "kernelspec": {
   "display_name": "Python 3",
   "language": "python",
   "name": "python3"
  },
  "language_info": {
   "codemirror_mode": {
    "name": "ipython",
    "version": 3
   },
   "file_extension": ".py",
   "mimetype": "text/x-python",
   "name": "python",
   "nbconvert_exporter": "python",
   "pygments_lexer": "ipython3",
   "version": "3.6.8"
  }
 },
 "nbformat": 4,
 "nbformat_minor": 4
}
