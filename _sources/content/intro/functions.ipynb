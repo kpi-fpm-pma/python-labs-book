{
 "cells": [
  {
   "cell_type": "markdown",
   "metadata": {},
   "source": [
    "# Вбудовані функції\n",
    "\n",
    "У середовищі Python без операцій імпорту є більше сотні вбудованих об'єктів, в основному, функцій і виключень (exception). \n",
    "Для зручності функції умовно розділені за категоріями:\n",
    "- Функції перетворення типів і класи: `coerce`, `str`, `repr`, `int`, `list`, `tuple`, `long`, `float`, `complex`, `dict`, `super`, `file`, `bool`, `object`.\n",
    "- Числові і рядкові функції: `abs`, `divmod`, `ord`, `pow`, `len`, `chr`, `unichr`, `hex`, `oct`, `cmp`, `round`, `unicode`.\n",
    "- Функції обробки даних: `apply`, `map`, `filter`, `reduce`, `zip`, `range`, `xrange`, `max`, `min`, `iter`, `enumerate`, `sum`.\n",
    "- Функції визначення властивостей: `hash`, `id`, `callable`, `issubclass`, `isinstance`, `type`.\n",
    "- Функції для доступу до внутрішніх структурам: `locals`, `globals`, `vars`, `intern`, `dir`.\n",
    "- Функції компіляції та виконання: `eval` ,`execfile`, `reload`, `__import__`, `compile`.\n",
    "- Функції введення-виведення: `input`, `raw_input`, `open`.\n",
    "- Функції для роботи з атрибутами: `getattr`, `setattr`, `delattr`, `hasattr`.\n",
    "- Функції-\"прикрашувачи\" методів класів: `staticmethod`, `classmethod`, `property`.\n",
    "- Інші функції: `buffer`, `slice`.\n",
    "\n",
    "Уточнити призначення функції, її аргументів і результату можна в інтерактивній сесії інтерпретатора Python :\n",
    "![](../images/intro/Func_Info.bmp)\n",
    "\n",
    "Ще один варіант отримати інформацію про функції можна, звернувшись за адресою: <https://docs.python.org/3.9/library/functions.html#help>.\n",
    "\n",
    "У [Додатку 2](../outro/appendixB) описаний синтаксис вбудованих функцій, найбільш уживаних у курсі вивчення мови Python.\n",
    "\n",
    "У [Додатку 3](../outro/appendixC) перераховані ключові слова мови Python. \n",
    "Ці зарезервовані слова не можна використовувати в якості імені змінної або будь-якого іншого ідентифікатора. \n",
    "Всі ключові слова Python складаються тільки з букв в нижньому регістрі. \n",
    "\n",
    "Отримати список ключових слів можливо в інтерпретаторі командою:"
   ]
  },
  {
   "cell_type": "code",
   "execution_count": 1,
   "metadata": {},
   "outputs": [
    {
     "name": "stdout",
     "output_type": "stream",
     "text": [
      "['False', 'None', 'True', '__peg_parser__', 'and', 'as', 'assert', 'async', 'await', 'break', 'class', 'continue', 'def', 'del', 'elif', 'else', 'except', 'finally', 'for', 'from', 'global', 'if', 'import', 'in', 'is', 'lambda', 'nonlocal', 'not', 'or', 'pass', 'raise', 'return', 'try', 'while', 'with', 'yield']\n"
     ]
    }
   ],
   "source": [
    "import keyword\n",
    "\n",
    "print(keyword.kwlist)"
   ]
  }
 ],
 "metadata": {
  "kernelspec": {
   "display_name": "Python 3",
   "language": "python",
   "name": "python3"
  },
  "language_info": {
   "codemirror_mode": {
    "name": "ipython",
    "version": 3
   },
   "file_extension": ".py",
   "mimetype": "text/x-python",
   "name": "python",
   "nbconvert_exporter": "python",
   "pygments_lexer": "ipython3",
   "version": "3.9.7"
  }
 },
 "nbformat": 4,
 "nbformat_minor": 4
}
