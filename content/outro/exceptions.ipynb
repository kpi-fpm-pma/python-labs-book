{
 "cells": [
  {
   "cell_type": "markdown",
   "metadata": {},
   "source": [
    "# Винятки в Python. Конструкція try ... except для оброобки винятків\n",
    "Винятки (exceptions) — ще один тип даних в Python. Винятки необхідні для того, щоб повідомляти програмісту про помилки. Найпростіший приклад винятку — поділ на нуль:"
   ]
  },
  {
   "cell_type": "code",
   "execution_count": 1,
   "metadata": {},
   "outputs": [
    {
     "ename": "ZeroDivisionError",
     "evalue": "division by zero",
     "output_type": "error",
     "traceback": [
      "\u001b[1;31m---------------------------------------------------------------------------\u001b[0m",
      "\u001b[1;31mZeroDivisionError\u001b[0m                         Traceback (most recent call last)",
      "\u001b[1;32m~\\AppData\\Local\\Temp/ipykernel_22196/621970991.py\u001b[0m in \u001b[0;36m<module>\u001b[1;34m\u001b[0m\n\u001b[1;32m----> 1\u001b[1;33m \u001b[1;36m100\u001b[0m\u001b[1;33m/\u001b[0m\u001b[1;36m0\u001b[0m\u001b[1;33m\u001b[0m\u001b[1;33m\u001b[0m\u001b[0m\n\u001b[0m",
      "\u001b[1;31mZeroDivisionError\u001b[0m: division by zero"
     ]
    }
   ],
   "source": [
    "100/0"
   ]
  },
  {
   "cell_type": "markdown",
   "metadata": {},
   "source": [
    "У цьому прикладі інтерпретатор повідомляє про те, що він впіймав виняток і надрукував інформацію (`Traceback (most recent call last)`).\n",
    "Далі ім'я файлу (`~\\AppData\\Local\\Temp/ipykernel_22196/621970991.py in <module>`). Ім'я дивне, тому що програма виконується в інтерактивному режимі, рядок в файлі (`line 1`);\n",
    "Вираз, в якому сталася помилка (`100/0`). Назва винятку (`ZeroDivisionError`) і короткий опис винятку (`division by zero`).\n",
    "\n",
    "Зрозуміло, можливі й інші винятки:"
   ]
  },
  {
   "cell_type": "code",
   "execution_count": 2,
   "metadata": {},
   "outputs": [
    {
     "ename": "TypeError",
     "evalue": "unsupported operand type(s) for +: 'int' and 'str'",
     "output_type": "error",
     "traceback": [
      "\u001b[1;31m---------------------------------------------------------------------------\u001b[0m",
      "\u001b[1;31mTypeError\u001b[0m                                 Traceback (most recent call last)",
      "\u001b[1;32m~\\AppData\\Local\\Temp/ipykernel_22196/3484758724.py\u001b[0m in \u001b[0;36m<module>\u001b[1;34m\u001b[0m\n\u001b[1;32m----> 1\u001b[1;33m \u001b[1;36m2\u001b[0m\u001b[1;33m+\u001b[0m\u001b[1;34m'1'\u001b[0m\u001b[1;33m\u001b[0m\u001b[1;33m\u001b[0m\u001b[0m\n\u001b[0m",
      "\u001b[1;31mTypeError\u001b[0m: unsupported operand type(s) for +: 'int' and 'str'"
     ]
    }
   ],
   "source": [
    "2+'1'"
   ]
  },
  {
   "cell_type": "code",
   "execution_count": 3,
   "metadata": {},
   "outputs": [
    {
     "ename": "ValueError",
     "evalue": "invalid literal for int() with base 10: 'qwerty'",
     "output_type": "error",
     "traceback": [
      "\u001b[1;31m---------------------------------------------------------------------------\u001b[0m",
      "\u001b[1;31mValueError\u001b[0m                                Traceback (most recent call last)",
      "\u001b[1;32m~\\AppData\\Local\\Temp/ipykernel_22196/937401132.py\u001b[0m in \u001b[0;36m<module>\u001b[1;34m\u001b[0m\n\u001b[1;32m----> 1\u001b[1;33m \u001b[0mint\u001b[0m\u001b[1;33m(\u001b[0m\u001b[1;34m'qwerty'\u001b[0m\u001b[1;33m)\u001b[0m\u001b[1;33m\u001b[0m\u001b[1;33m\u001b[0m\u001b[0m\n\u001b[0m",
      "\u001b[1;31mValueError\u001b[0m: invalid literal for int() with base 10: 'qwerty'"
     ]
    }
   ],
   "source": [
    "int('qwerty')"
   ]
  },
  {
   "cell_type": "markdown",
   "metadata": {},
   "source": [
    "У цих двох прикладах генеруються винятки `TypeError` і `ValueError` відповідно. Підказки дають повну інформацію про те, де породжений виняток, і з чим це пов'язано.\n",
    "\n",
    "## Ієрархія вбудованих в Python винятків\n",
    "\n",
    "`BaseException` — базовий виняток, від якого беруть початок всі інші.\n",
    "\n",
    "`SystemExit` — виняток, що породжується функцією `sys.exit` при виході з програми.\n",
    "\n",
    "`KeyboardInterrupt` — породжується при перериванні програми користувачем (зазвичай сполучення клавіш `Ctrl+C`).\n",
    "\n",
    "`GeneratorExit` — породжується при виклику методу `close` об'єкту `generator`.\n",
    "\n",
    "`Exception` — а ось тут вже закінчуються повністю системні виключення (які краще не чіпати) і починаються звичайні, з якими можна працювати.\n",
    "\n",
    "`StopIteration` — породжується вбудованою функцією `next`, якщо в ітераторі більше немає елементів.\n",
    "\n",
    "`ArithmeticError` — арифметична помилка.\n",
    "\n",
    "- `FloatingPointError` — породжується при невдалому виконанні операції з плаваючою комою. На практиці зустрічається нечасто.\n",
    "- `OverflowError` — виникає, коли результат арифметичної операції занадто великий для представлення. Не з'являється при звичайній роботі з цілими числами (так як Python підтримує довгі числа), але може виникати в деяких інших.\n",
    "- `ZeroDivisionError` — ділення на нуль.\n",
    "\n",
    "`AssertionError` — вираз у функції `assert` помилковий.\n",
    "\n",
    "`AttributeError` — об'єкт не має даного атрибута (значення або методу).\n",
    "\n",
    "`BufferError` — операція, пов'язана з буфером, не може бути виконана.\n",
    "\n",
    "`EOFError` — функція натрапила на кінець файлу і не змогла прочитати те, що хотіла.\n",
    "\n",
    "`ImportError` — не вдалося імпортування модуля або його атрибута.\n",
    "\n",
    "`LookupError` — некоректний індекс або ключ.\n",
    "\n",
    "`IndexError` — індекс не входить в діапазон елементів.\n",
    "\n",
    "`KeyError` — неіснуючий ключ (в словнику, множині або іншому об'єкті).\n",
    "\n",
    "`MemoryError` — недостатньо пам'яті.\n",
    "\n",
    "`NameError` — не знайдено змінної з таким ім'ям.\n",
    "\n",
    "`UnboundLocalError` — зроблено посилання на локальну змінну у функції, але змінна не визначена раніше.\n",
    "\n",
    "`OSError` — помилка, пов'язана з системою.\n",
    "\n",
    "- `BlockingIOError`\n",
    "\n",
    "`ChildProcessError` — невдача при операції з дочірнім процесом.\n",
    "\n",
    "`ConnectionError` — базовий клас для винятків, пов'язаних з підключеннями.\n",
    "\n",
    "- `BrokenPipeError`\n",
    "- `ConnectionAbortedError`\n",
    "- `ConnectionRefusedError`\n",
    "- `ConnectionResetError`\n",
    "\n",
    "`FileExistsError` — спроба створення файлу або директорії, яка вже існує.\n",
    "\n",
    "`FileNotFoundError` — файл або директорія не існує.\n",
    "\n",
    "`InterruptedError` — системний виклик перерваний вхідним сигналом.\n",
    "\n",
    "`IsADirectoryError` — очікувався файл, але це директорія.\n",
    "\n",
    "`NotADirectoryError` — очікувалася директорія, але це файл.\n",
    "\n",
    "`PermissionError` — не вистачає прав доступу.\n",
    "\n",
    "`ProcessLookupError` — вказаного процесу не існує.\n",
    "\n",
    "`TimeoutError` — закінчився час очікування.\n",
    "\n",
    "`ReferenceError` — спроба доступу до атрибуту зі слабким посиланням.\n",
    "\n",
    "`RuntimeError` — виникає, коли виняток не попадає ні під одну з інших категорій.\n",
    "\n",
    "`NotImplementedError` — виникає, коли абстрактні методи класу вимагають перевизначення в дочірніх класах.\n",
    "\n",
    "`SyntaxError` — синтаксична помилка.\n",
    "\n",
    "`IndentationError` — неправильні відступи.\n",
    "\n",
    "`TabError` — змішування у відступах табуляції і пробілів.\n",
    "\n",
    "`SystemError` — внутрішня помилка.\n",
    "\n",
    "`TypeError` — операція застосована до об'єкту невідповідного типу.\n",
    "\n",
    "`ValueError` — функція отримує аргумент правильного типу, але некоректного значення.\n",
    "\n",
    "`UnicodeError` — помилка, пов'язана з кодуванням / розкодуванням  Unicode в рядках.\n",
    "\n",
    "`UnicodeEncodeError` — виняток, пов'язаний з кодуванням Unicode.\n",
    "\n",
    "`UnicodeDecodeError` — виняток, пов'язаний з декодуванням Unicode.\n",
    "\n",
    "`UnicodeTranslateError` — виняток, пов'язаний з перекладом Unicode.\n",
    "\n",
    "`Warning` — попередження."
   ]
  },
  {
   "cell_type": "markdown",
   "metadata": {},
   "source": [
    "Тепер, знаючи, коли і за яких обставин можуть виникнути виключення, можна їх обробляти. Для обробки виключень використовується конструкція `try ... except`.\n",
    "Перший приклад застосування цієї конструкції:"
   ]
  },
  {
   "cell_type": "code",
   "execution_count": 4,
   "metadata": {},
   "outputs": [
    {
     "name": "stdout",
     "output_type": "stream",
     "text": [
      "0\n"
     ]
    }
   ],
   "source": [
    "try:\n",
    "    k = 1 / 0\n",
    "except ZeroDivisionError:\n",
    "    k = 0\n",
    "print(k)"
   ]
  },
  {
   "cell_type": "markdown",
   "metadata": {},
   "source": [
    "У блоці `try` виконується інструкція, яка може породити виняток, а у блоці `except` — перехоплюється. При цьому перехоплюються як саме виняток, так і його нащадки. Наприклад, перехоплюючи `ArithmeticError`, також перехоплюються `FloatingPointError`, `OverflowError` і `ZeroDivisionError`."
   ]
  },
  {
   "cell_type": "code",
   "execution_count": 5,
   "metadata": {},
   "outputs": [
    {
     "name": "stdout",
     "output_type": "stream",
     "text": [
      "0\n"
     ]
    }
   ],
   "source": [
    "try:\n",
    "    k = 1 / 0\n",
    "except ArithmeticError:\n",
    "    k = 0\n",
    "print(k)"
   ]
  },
  {
   "cell_type": "markdown",
   "metadata": {},
   "source": [
    "Також можлива інструкція `except` без аргументів, яка перехоплює взагалі все (і переривання з клавіатури, і системний вихід і т. д.). Тому у такій формі інструкція `except` практично не використовується, а використовується `except Exception`. Однак найчастіше перехоплюють виключення по одному, для спрощення налагодження (раптом буде здійснена помилка, а `except` її перехопить).\n",
    "\n",
    "Ще дві інструкції — це `finally` і `else`. `finally` виконує блок інструкцій у будь-якому випадку, чи було виключення, чи ні (застосовні, коли потрібно неодмінно щось зробити, наприклад, закрити файл). Інструкція `else` виконується у тому випадку, якщо виключення не було.\n",
    "\n",
    "```python\n",
    "f = open('1.txt')\n",
    "ints = []\n",
    "try:\n",
    "    for line in f:\n",
    "        ints.append(int(line))\n",
    "except ValueError:\n",
    "    print('Це не число. Виходимо')\n",
    "except Exception:\n",
    "    print('Це що ще таке?' )\n",
    "else:\n",
    "    print('Все добре.')\n",
    "finally:\n",
    "    f.close()\n",
    "    print('Я закрив файл.')\n",
    "#Саме у такому порядку: try, група except, потім else, і тільки потім finally.\n",
    "```"
   ]
  }
 ],
 "metadata": {
  "kernelspec": {
   "display_name": "Python 3",
   "language": "python",
   "name": "python3"
  },
  "language_info": {
   "codemirror_mode": {
    "name": "ipython",
    "version": 3
   },
   "file_extension": ".py",
   "mimetype": "text/x-python",
   "name": "python",
   "nbconvert_exporter": "python",
   "pygments_lexer": "ipython3",
   "version": "3.9.7"
  }
 },
 "nbformat": 4,
 "nbformat_minor": 4
}
