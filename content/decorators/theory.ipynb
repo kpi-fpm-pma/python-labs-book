{
 "cells": [
  {
   "cell_type": "markdown",
   "metadata": {},
   "source": [
    "# Теоретичні відомості\n",
    "\n",
    "Декоратор — це функція, яка дозволяє розширити функціональність іншої функції без безпосереднього редагування її вихідного коду.\n",
    "\n",
    "Функції вищих порядків - функції, які можуть приймати в якості аргументів функції та повертати інші функції.\n",
    "\n",
    "Внутрішня функція  -  функція, яка оголошена в тілі іншої функції.\n",
    "\n",
    "\n",
    "Проведемо аналогію. Оператор диференціювання на вхід приймає функцію і повертає іншу функцію, похідну від початкової. Функції вищих порядків в програмуванні працюють за такою ж логікою.\n",
    "\n",
    "\n",
    "## Приклади реалізації функції вищих порядків, внутрішніх функцій "
   ]
  },
  {
   "cell_type": "code",
   "execution_count": 3,
   "metadata": {},
   "outputs": [
    {
     "name": "stdout",
     "output_type": "stream",
     "text": [
      "sorry, but you don't have enought money to buy a ticket\n"
     ]
    }
   ],
   "source": [
    "def concert(money):\n",
    "    \n",
    "    def buy_ticket():\n",
    "        return \"you bought a ticket on a concert!\"\n",
    "    \n",
    "    def not_enought_money():\n",
    "        return \"sorry, but you don't have enought money to buy a ticket\"\n",
    "    \n",
    "    \n",
    "    if money >= 300:\n",
    "        return buy_ticket()\n",
    "    else:\n",
    "        return not_enought_money()\n",
    "    \n",
    "    \n",
    "print(concert(228))"
   ]
  },
  {
   "cell_type": "code",
   "execution_count": 7,
   "metadata": {},
   "outputs": [
    {
     "name": "stdout",
     "output_type": "stream",
     "text": [
      "<function concert.<locals>.buy_ticket at 0x7fd9f8d33620>\n",
      "<function concert.<locals>.buy_ticket at 0x7fd9f8d33840>\n",
      "you bought a ticket on a concert!\n"
     ]
    }
   ],
   "source": [
    "def concert(money):\n",
    "    \n",
    "    def buy_ticket():\n",
    "        return \"you bought a ticket on a concert!\"\n",
    "    \n",
    "    def not_enought_money():\n",
    "        return \"sorry, but you don't have enought money to buy a ticket\"\n",
    "    \n",
    "    \n",
    "    if money >= 300:\n",
    "        return buy_ticket\n",
    "    else:\n",
    "        return not_enought_money\n",
    "\n",
    "    \n",
    "steal_ticket = concert(322)\n",
    "\n",
    "print(steal_ticket)\n",
    "print(concert(322))\n",
    "print(steal_ticket())"
   ]
  },
  {
   "cell_type": "markdown",
   "metadata": {},
   "source": [
    "Оскільки функція також є типом даних в пайтоні, ми можемо створити зовнішню функцію з такою ж функціональністю. У прикладі вище ми створюємо глобальну функцію аналогічну своєю функціональністю до внутрішньої. \n",
    "Також можна помітити що steal_ticket хоч і є результатом функції concert(), проте при повторному виклику concert() ми отримуємо посилання в пам'яті на інший об'єкт. Тобто, навіть при однакових аргументах, результат кожної виконаної функції унікальний з точки зору місцезнаходження в пам'яті її результату"
   ]
  },
  {
   "cell_type": "markdown",
   "metadata": {},
   "source": [
    "## Найпростіші декоратори"
   ]
  },
  {
   "cell_type": "markdown",
   "metadata": {},
   "source": [
    "## Приклади реалізації найпростішого декоратора"
   ]
  },
  {
   "cell_type": "code",
   "execution_count": 8,
   "metadata": {},
   "outputs": [
    {
     "name": "stdout",
     "output_type": "stream",
     "text": [
      "Something is happening before the function is called\n",
      "Hello!\n",
      "Something is happening after the function is called\n"
     ]
    }
   ],
   "source": [
    "def my_decorator(func):\n",
    "    \n",
    "    def wrapper():\n",
    "        print(\"Something is happening before the function is called\")\n",
    "        func()\n",
    "        print(\"Something is happening after the function is called\")\n",
    "    return wrapper \n",
    "\n",
    "\n",
    "def greet():\n",
    "    print(\"Hello!\")\n",
    "    \n",
    "    \n",
    "greet = my_decorator(greet)\n",
    "greet()"
   ]
  },
  {
   "cell_type": "markdown",
   "metadata": {},
   "source": [
    "В прикладі вище ми огорнули функцію greet() функцією my_decorator.\n",
    "А саме, відбулось розширення функціональності функції greet()\n",
    "Такий спосіб розширення функціональності є особливо ефективним, коли нам треба додати один й то й ж додатковий функціонал для декількох функцій.\n",
    "Відповідно, нам не потрібно буде переписувати вихідний код. Ми просто можемо огорнути нашу функцію за допомогою декоратора. Це зменшить потребу дублювати код, збільшить читабельність коду та є значно більш зручним для розширення функціоналу функцій "
   ]
  },
  {
   "cell_type": "markdown",
   "metadata": {},
   "source": [
    "Створимо декоратор, який дозволяє підрахувати швидкість виконання наших функцій"
   ]
  },
  {
   "cell_type": "code",
   "execution_count": 9,
   "metadata": {},
   "outputs": [
    {
     "name": "stdout",
     "output_type": "stream",
     "text": [
      "Кількість часу витраченого на виконання функції. Секунд - 0  Микросекунд - 3\n",
      "Кількість часу витраченого на виконання функції. Секунд - 0  Микросекунд - 1\n"
     ]
    }
   ],
   "source": [
    "from datetime import datetime \n",
    "\n",
    "def my_decorator(func):\n",
    "    \n",
    "    def wrapper():\n",
    "        begin = datetime.now()\n",
    "        func()\n",
    "        difference = (datetime.now()-begin)\n",
    "        print('Кількість часу витраченого на виконання функції. Секунд -',difference.seconds,' Микросекунд -', difference.microseconds)\n",
    "    return wrapper \n",
    "\n",
    "\n",
    "def concat2():\n",
    "    return 'a'+'b'\n",
    "\n",
    "def concat3():\n",
    "    return 'a'+'b'+'c'\n",
    "\n",
    "\n",
    "concat2, concat3 = my_decorator(concat2), my_decorator(concat3)\n",
    "\n",
    "concat2()\n",
    "concat3()"
   ]
  },
  {
   "cell_type": "markdown",
   "metadata": {},
   "source": [
    "В даному прикладі було розглянуто прикладне використання найпростішого декоратора\n",
    "Як можна помітити, не дуже цікаво і показово проводити тести лиш на функціях без параметрів\n",
    "Перед тим, як перейти до наступного розділу варто пригадати \n",
    "\n",
    "\\*args - повертає кортеж всіх переданих функції неіменованих аргументів\n",
    "\n",
    "\\*\\*kwargs - повертає словник всіх іменованих аргументів функції, окрім тих, що визначені окремо\n",
    "\n",
    "\\*args і \\*\\*kwargs можна використовувати разом в одній функції. Замість args і kwargs можна використовувати будь-які інші назви. Наприклад \\*argument, \\*\\*keyargument\n",
    "\n",
    "## Декоратори з параметрами"
   ]
  },
  {
   "cell_type": "markdown",
   "metadata": {},
   "source": [
    "## Приклад реалізації декоратора з параметрами"
   ]
  },
  {
   "cell_type": "code",
   "execution_count": 10,
   "metadata": {},
   "outputs": [
    {
     "name": "stdout",
     "output_type": "stream",
     "text": [
      "Введіте перший рядок2\n",
      "Введите другий рядок1\n",
      "Введите третій рядок3\n",
      "Кількість часу витраченого на виконання функції. Секунд - 0  Микросекунд - 2\n",
      "Кількість часу витраченого на виконання функції. Секунд - 0  Микросекунд - 2\n"
     ]
    }
   ],
   "source": [
    "from datetime import datetime \n",
    "\n",
    "def my_decorator(func):\n",
    "    \n",
    "    def wrapper(*args, **kwargs):\n",
    "        begin = datetime.now()\n",
    "        func(*args, **kwargs)\n",
    "        difference = (datetime.now()-begin)\n",
    "        print('Кількість часу витраченого на виконання функції. Секунд -',difference.seconds,' Микросекунд -', difference.microseconds)\n",
    "    return wrapper \n",
    "\n",
    "\n",
    "def concat2(a,b):\n",
    "    return a+b\n",
    "\n",
    "def concat3(a,b,c):\n",
    "    return a+b+c\n",
    "\n",
    "\n",
    "concat2, concat3 = my_decorator(concat2), my_decorator(concat3)\n",
    "\n",
    "a = input('Введіте перший рядок')\n",
    "b = input('Введите другий рядок')\n",
    "c = input('Введите третій рядок')\n",
    "\n",
    "concat2(a,b)\n",
    "concat3(a,b,c)"
   ]
  },
  {
   "cell_type": "markdown",
   "metadata": {},
   "source": [
    "Для того, щоб ми могли декорувати функції з параметрами, нам потрібно щоб ми мали можливість передати параметри функції в функцію, що виконується. Для цього нам потрібно передати її аргументи в функцію-обгортку. Саме тому функція wrapper(\\*args, \\*\\*kwargs) приймає такі аргументи. Згодом ці аргументи передаються безпосредньо в ту функцію, чий функціонал ми розширюємо, а саме func(\\*args, \\*\\*kwargs).\n",
    "\n",
    "## Синтаксичний цукор"
   ]
  },
  {
   "cell_type": "markdown",
   "metadata": {},
   "source": [
    "Те, як ми декорували функції вище виглядає незручно. Перш за все, ми вводимо ім'я функції тричі. \n",
    "\n",
    "Крім того тяжко з першого погляду буде зрозуміти чи є функція декорована чи ні. Доведеться дивитись як мінімум в тілі програми, що дуже недоречно, оскільки основна ціль використання декораторів - підвищення читабельності коду та зручне розширення функціоналу декоруємих об'єктів, без потреби дублювати код. Для того, щоб це реалізувати в повній мірі можна використовувати декоратори за допомогою '@' символа, або так званого “pie” синтаксису.\n",
    "\n",
    "Візьмемо минулий приклад і перепишемо його використовуючи синтаксичний цукор"
   ]
  },
  {
   "cell_type": "markdown",
   "metadata": {},
   "source": [
    "#### from datetime import datetime \n",
    "\n",
    "def my_decorator(func):\n",
    "    def wrapper(*args, **kwargs):\n",
    "        begin = datetime.now()\n",
    "        func(*args, **kwargs)\n",
    "        difference = (datetime.now()-begin)\n",
    "        print('Кількість часу витраченого на виконання функції. Секунд -',difference.seconds,' Микросекунд -', difference.microseconds)\n",
    "    return wrapper \n",
    "\n",
    "\n",
    "@my_decorator\n",
    "def concat2(a,b):\n",
    "    return a+b\n",
    "\n",
    "@my_decorator\n",
    "def concat3(a,b,c):\n",
    "    return a+b+c\n",
    "\n",
    "a = input('Введіте перший рядок')\n",
    "b = input('Введіте другий рядок')\n",
    "c = input('Введіте третій рядок')\n",
    "\n",
    "concat2(a,b)\n",
    "concat3(a,b,c)"
   ]
  },
  {
   "cell_type": "markdown",
   "metadata": {},
   "source": [
    "Також декоратори можна накладати одне на одного. Оскільки декоратор - це функція, в першу чергу, то інший декоратор може приймати його в якості аргументу. \n",
    "\n",
    "## Приклад реалізації композиції декораторів"
   ]
  },
  {
   "cell_type": "code",
   "execution_count": null,
   "metadata": {},
   "outputs": [],
   "source": [
    "from datetime import datetime \n",
    "\n",
    "def my_decorator1(func):\n",
    "    def wrapper(*args, **kwargs):\n",
    "        begin = datetime.now()\n",
    "        func(*args, **kwargs)\n",
    "        difference = (datetime.now()-begin)\n",
    "        print('Кількість часу витраченого на виконання функції. Секунд -',difference.seconds,' Микросекунд -', difference.microseconds)\n",
    "    return wrapper \n",
    "\n",
    "def my_decorator2(func):\n",
    "    def wrapper(*args, **kwargs):\n",
    "        now = datetime.now()\n",
    "        print (\"Current date : \" + str(now.strftime(\"%Y-%m-%d \"))) \n",
    "        func(*args, **kwargs)\n",
    "    return wrapper\n",
    "\n",
    "\n",
    "@my_decorator2\n",
    "@my_decorator1\n",
    "def concat2(a,b):\n",
    "    return a+b\n",
    "\n",
    "\n",
    "a = input('Введіте перший рядок')\n",
    "b = input('Введіте другий рядок')\n",
    "\n",
    "concat2(a,b)"
   ]
  },
  {
   "cell_type": "markdown",
   "metadata": {},
   "source": [
    "А що відбувається з return данними функції, яка є декорованою? Це все залежить лише від декоратора\n",
    "\n",
    "## Приклади реалізації декораторів з різним форматом return statement"
   ]
  },
  {
   "cell_type": "code",
   "execution_count": 12,
   "metadata": {},
   "outputs": [
    {
     "name": "stdout",
     "output_type": "stream",
     "text": [
      "Привітання створюється...\n",
      "Привітання створюється...\n",
      "None\n"
     ]
    }
   ],
   "source": [
    "def do_twice(func):\n",
    "    def wrapper_do_twice(*args, **kwargs):\n",
    "        func(*args, **kwargs)\n",
    "        func(*args, **kwargs)\n",
    "    return wrapper_do_twice\n",
    "\n",
    "\n",
    "@do_twice\n",
    "def return_greeting(name):\n",
    "    print(\"Привітання створюється...\")\n",
    "    return f\"Привіт {name}\"\n",
    "\n",
    "\n",
    "hi = return_greeting(\"Ігор\")\n",
    "\n",
    "print(hi)"
   ]
  },
  {
   "cell_type": "markdown",
   "metadata": {},
   "source": [
    "Декоратор працює корректно, проте жодних данних не було отримано, тому при виклику print(hi) результат None \n",
    "\n",
    "Декоратор \"зїв\" дані, які повинні були повернутися з функції. Виправимо цю ситуацію"
   ]
  },
  {
   "cell_type": "code",
   "execution_count": 13,
   "metadata": {},
   "outputs": [
    {
     "name": "stdout",
     "output_type": "stream",
     "text": [
      "Привітання створюється...\n",
      "Привітання створюється...\n",
      "Привіт Ігор\n"
     ]
    }
   ],
   "source": [
    "def do_twice(func):\n",
    "    def wrapper_do_twice(*args, **kwargs):\n",
    "        func(*args, **kwargs)\n",
    "        result = func(*args, **kwargs)\n",
    "        return result\n",
    "    return wrapper_do_twice\n",
    "\n",
    "\n",
    "@do_twice\n",
    "def return_greeting(name):\n",
    "    print(\"Привітання створюється...\")\n",
    "    return f\"Привіт {name}\"\n",
    "\n",
    "\n",
    "hi = return_greeting(\"Ігор\")\n",
    "\n",
    "print(hi)"
   ]
  },
  {
   "cell_type": "code",
   "execution_count": null,
   "metadata": {},
   "outputs": [],
   "source": []
  }
 ],
 "metadata": {
  "kernelspec": {
   "display_name": "Python 3",
   "language": "python",
   "name": "python3"
  },
  "language_info": {
   "codemirror_mode": {
    "name": "ipython",
    "version": 3
   },
   "file_extension": ".py",
   "mimetype": "text/x-python",
   "name": "python",
   "nbconvert_exporter": "python",
   "pygments_lexer": "ipython3",
   "version": "3.6.9"
  }
 },
 "nbformat": 4,
 "nbformat_minor": 4
}
